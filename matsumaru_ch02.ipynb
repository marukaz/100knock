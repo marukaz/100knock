{
 "cells": [
  {
   "cell_type": "markdown",
   "metadata": {},
   "source": [
    "# 第2章: UNIXコマンドの基礎"
   ]
  },
  {
   "cell_type": "code",
   "execution_count": 14,
   "metadata": {},
   "outputs": [],
   "source": [
    "datapath = \"../../problem/data/popular-names.txt\""
   ]
  },
  {
   "cell_type": "markdown",
   "metadata": {},
   "source": [
    "### 10. 行数のカウント"
   ]
  },
  {
   "cell_type": "code",
   "execution_count": 15,
   "metadata": {},
   "outputs": [
    {
     "name": "stdout",
     "output_type": "stream",
     "text": [
      "2740\n"
     ]
    }
   ],
   "source": [
    "with open(datapath) as f:\n",
    "    print(sum(1 for line in f))"
   ]
  },
  {
   "cell_type": "code",
   "execution_count": 16,
   "metadata": {},
   "outputs": [
    {
     "name": "stdout",
     "output_type": "stream",
     "text": [
      "2740 ../../problem/data/popular-names.txt\n"
     ]
    }
   ],
   "source": [
    "%%bash\n",
    "wc -l ../../problem/data/popular-names.txt"
   ]
  },
  {
   "cell_type": "markdown",
   "metadata": {},
   "source": [
    "### 11. タブをスペースに置換"
   ]
  },
  {
   "cell_type": "code",
   "execution_count": 17,
   "metadata": {
    "scrolled": true
   },
   "outputs": [
    {
     "data": {
      "text/plain": [
       "['Mary F 7065 1880',\n",
       " 'Anna F 2604 1880',\n",
       " 'Emma F 2003 1880',\n",
       " 'Elizabeth F 1939 1880',\n",
       " 'Minnie F 1746 1880',\n",
       " 'Margaret F 1578 1880',\n",
       " 'Ida F 1472 1880',\n",
       " 'Alice F 1414 1880',\n",
       " 'Bertha F 1320 1880',\n",
       " 'Sarah F 1288 1880']"
      ]
     },
     "execution_count": 17,
     "metadata": {},
     "output_type": "execute_result"
    }
   ],
   "source": [
    "with open(datapath) as f:\n",
    "    l = [line.replace(\"\\t\", \" \").rstrip() for line in f]\n",
    "l[:10]"
   ]
  },
  {
   "cell_type": "code",
   "execution_count": 18,
   "metadata": {},
   "outputs": [
    {
     "name": "stdout",
     "output_type": "stream",
     "text": [
      "Mary F 7065 1880\n",
      "Anna F 2604 1880\n",
      "Emma F 2003 1880\n",
      "Elizabeth F 1939 1880\n",
      "Minnie F 1746 1880\n",
      "Margaret F 1578 1880\n",
      "Ida F 1472 1880\n",
      "Alice F 1414 1880\n",
      "Bertha F 1320 1880\n",
      "Sarah F 1288 1880\n",
      "-----------------\n",
      "Mary F 7065 1880\n",
      "Anna F 2604 1880\n",
      "Emma F 2003 1880\n",
      "Elizabeth F 1939 1880\n",
      "Minnie F 1746 1880\n",
      "Margaret F 1578 1880\n",
      "Ida F 1472 1880\n",
      "Alice F 1414 1880\n",
      "Bertha F 1320 1880\n",
      "Sarah F 1288 1880\n",
      "-----------------\n",
      "Mary F 7065 1880\n",
      "Anna F 2604 1880\n",
      "Emma F 2003 1880\n",
      "Elizabeth F 1939 1880\n",
      "Minnie F 1746 1880\n",
      "Margaret F 1578 1880\n",
      "Ida F 1472 1880\n",
      "Alice F 1414 1880\n",
      "Bertha F 1320 1880\n",
      "Sarah F 1288 1880\n"
     ]
    }
   ],
   "source": [
    "%%bash\n",
    "sed \"s/\\t/ /g\" ../../problem/data/popular-names.txt | head\n",
    "echo -----------------\n",
    "tr '\\t' ' ' < ../../problem/data/popular-names.txt | head\n",
    "echo -----------------\n",
    "expand -t 1 ../../problem/data/popular-names.txt | head"
   ]
  },
  {
   "cell_type": "markdown",
   "metadata": {},
   "source": [
    "### 12. 1列目をcol1.txtに，2列目をcol2.txtに保存"
   ]
  },
  {
   "cell_type": "code",
   "execution_count": 19,
   "metadata": {},
   "outputs": [
    {
     "data": {
      "text/plain": [
       "['Mary',\n",
       " 'Anna',\n",
       " 'Emma',\n",
       " 'Elizabeth',\n",
       " 'Minnie',\n",
       " 'Margaret',\n",
       " 'Ida',\n",
       " 'Alice',\n",
       " 'Bertha',\n",
       " 'Sarah']"
      ]
     },
     "execution_count": 19,
     "metadata": {},
     "output_type": "execute_result"
    }
   ],
   "source": [
    "col1 = \"\"\n",
    "col2 = \"\"\n",
    "with open(datapath) as f:\n",
    "    for line in f:\n",
    "        splits = line.split()\n",
    "        col1 += \"\".join([splits[0], \"\\n\"])\n",
    "        col2 += \"\".join([splits[1], \"\\n\"])\n",
    "        \n",
    "with open(\"col1.txt\", \"w\") as f1, open(\"col2.txt\", \"w\") as f2:\n",
    "    f1.write(col1)\n",
    "    f2.write(col2)\n",
    "    \n",
    "\n",
    "import pandas as pd\n",
    "\n",
    "df = pd.read_table('../../problem/data/popular-names.txt', header=None)\n",
    "l = list(df[0].head(10))\n",
    "l"
   ]
  },
  {
   "cell_type": "code",
   "execution_count": 20,
   "metadata": {},
   "outputs": [
    {
     "name": "stdout",
     "output_type": "stream",
     "text": [
      "Mary\n",
      "Anna\n",
      "Emma\n",
      "Elizabeth\n",
      "Minnie\n",
      "Margaret\n",
      "Ida\n",
      "Alice\n",
      "Bertha\n",
      "Sarah\n"
     ]
    }
   ],
   "source": [
    "%%bash\n",
    "cut -f 1 ../../problem/data/popular-names.txt | head"
   ]
  },
  {
   "cell_type": "markdown",
   "metadata": {},
   "source": [
    "### 13. col1.txtとcol2.txtをマージ"
   ]
  },
  {
   "cell_type": "code",
   "execution_count": 21,
   "metadata": {},
   "outputs": [
    {
     "name": "stdout",
     "output_type": "stream",
     "text": [
      "<generator object <genexpr> at 0x7f0070928f68>\n"
     ]
    }
   ],
   "source": [
    "with open(\"col1.txt\") as f1, open(\"col2.txt\") as f2:\n",
    "    print((\"\\t\".join([line1.strip(),line2]) for line1,line2 in zip(f1, f2)))"
   ]
  },
  {
   "cell_type": "code",
   "execution_count": 37,
   "metadata": {},
   "outputs": [
    {
     "name": "stdout",
     "output_type": "stream",
     "text": [
      "Mary\tF\n",
      "Anna\tF\n",
      "Emma\tF\n",
      "Elizabeth\tF\n",
      "Minnie\tF\n",
      "Margaret\tF\n",
      "Ida\tF\n",
      "Alice\tF\n",
      "Bertha\tF\n",
      "Sarah\tF\n"
     ]
    }
   ],
   "source": [
    "t = \"\"\n",
    "with open(\"col1.txt\") as f1, open(\"col2.txt\") as f2:\n",
    "    for line1,line2 in zip(f1, f2):\n",
    "        t += \"\\t\".join([line1.strip(),line2])\n",
    "        \n",
    "with open(\"merge.txt\", \"w\")as f:\n",
    "    f.write(t)\n",
    "\n",
    "\n",
    "l = list(df[0].str.cat(df[1], sep='\\t').head(10))\n",
    "print(*l, sep='\\n')"
   ]
  },
  {
   "cell_type": "code",
   "execution_count": 23,
   "metadata": {},
   "outputs": [
    {
     "name": "stdout",
     "output_type": "stream",
     "text": [
      "Mary\tF\n",
      "Anna\tF\n",
      "Emma\tF\n",
      "Elizabeth\tF\n",
      "Minnie\tF\n",
      "Margaret\tF\n",
      "Ida\tF\n",
      "Alice\tF\n",
      "Bertha\tF\n",
      "Sarah\tF\n"
     ]
    }
   ],
   "source": [
    "%%bash\n",
    "paste col1.txt col2.txt | head"
   ]
  },
  {
   "cell_type": "markdown",
   "metadata": {},
   "source": [
    "### 14. 先頭からN行を出力"
   ]
  },
  {
   "cell_type": "code",
   "execution_count": 24,
   "metadata": {},
   "outputs": [
    {
     "name": "stdout",
     "output_type": "stream",
     "text": [
      "Mary\tF\t7065\t1880\n",
      "Anna\tF\t2604\t1880\n",
      "Emma\tF\t2003\t1880\n"
     ]
    }
   ],
   "source": [
    "# input [N]\n",
    "arg = input(\"input a number: \")\n",
    "with open(datapath) as f:\n",
    "    for _ in range(int(arg)):\n",
    "        print(f.readline(), end=\"\")"
   ]
  },
  {
   "cell_type": "code",
   "execution_count": 25,
   "metadata": {},
   "outputs": [
    {
     "name": "stdout",
     "output_type": "stream",
     "text": [
      "Mary\tF\t7065\t1880\n",
      "Anna\tF\t2604\t1880\n",
      "Emma\tF\t2003\t1880\n"
     ]
    }
   ],
   "source": [
    "%%bash\n",
    "head -3 ../../problem/data/popular-names.txt"
   ]
  },
  {
   "cell_type": "markdown",
   "metadata": {},
   "source": [
    "### 15. 末尾のN行を出力"
   ]
  },
  {
   "cell_type": "code",
   "execution_count": 26,
   "metadata": {
    "scrolled": true
   },
   "outputs": [
    {
     "name": "stdout",
     "output_type": "stream",
     "text": [
      "Michael\tM\t13998\t2016\n",
      "Elijah\tM\t13764\t2016\n",
      "Ethan\tM\t13758\t2016\n",
      "----------------------------\n",
      "Michael\tM\t13998\t2016\n",
      "Elijah\tM\t13764\t2016\n",
      "Ethan\tM\t13758\t2016\n"
     ]
    }
   ],
   "source": [
    "import linecache\n",
    "arg = int(input(\"input a number: \"))\n",
    "\n",
    "with open(datapath) as f:\n",
    "    size = sum(1 for _ in f)\n",
    "startline = size - arg + 1\n",
    "for i in range(startline, size + 1):\n",
    "    print(linecache.getline(datapath, i), end=\"\")\n",
    "linecache.clearcache()\n",
    "\n",
    "print('----------------------------')\n",
    "\n",
    "import collections\n",
    "with open(datapath) as f:\n",
    "    deque = collections.deque(f, arg)\n",
    "for line in deque:\n",
    "    print(line, end='')"
   ]
  },
  {
   "cell_type": "code",
   "execution_count": 27,
   "metadata": {},
   "outputs": [
    {
     "name": "stdout",
     "output_type": "stream",
     "text": [
      "Michael\tM\t13998\t2016\n",
      "Elijah\tM\t13764\t2016\n",
      "Ethan\tM\t13758\t2016\n"
     ]
    }
   ],
   "source": [
    "%%bash\n",
    "tail -3 ../../problem/data/popular-names.txt"
   ]
  },
  {
   "cell_type": "markdown",
   "metadata": {},
   "source": [
    "### 16. ファイルをN分割する"
   ]
  },
  {
   "cell_type": "code",
   "execution_count": 28,
   "metadata": {},
   "outputs": [
    {
     "name": "stdout",
     "output_type": "stream",
     "text": [
      "914\n",
      "913\n",
      "913\n"
     ]
    }
   ],
   "source": [
    "arg = input(\"input a number: \")\n",
    "n = int(arg)\n",
    "with open(datapath) as f:\n",
    "    size = sum(1 for line in f)\n",
    "    f.seek(0)\n",
    "    length = int(size / n)\n",
    "    mod = int(size % n)\n",
    "    for i in range(n):\n",
    "        splited = \"\"\n",
    "        for _ in range(length):\n",
    "            splited += f.readline()\n",
    "        if(i < mod):\n",
    "            splited += f.readline()\n",
    "        with open(\"x{}.txt\".format(i), \"w\") as wf:\n",
    "            print(splited.count('\\n'))\n",
    "            wf.write(splited)"
   ]
  },
  {
   "cell_type": "code",
   "execution_count": 29,
   "metadata": {},
   "outputs": [
    {
     "name": "stdout",
     "output_type": "stream",
     "text": [
      "943 xaa\n",
      "910 xab\n",
      "887 xac\n"
     ]
    }
   ],
   "source": [
    "%%bash\n",
    "split -n l/3 ../../problem/data/popular-names.txt\n",
    "wc -l xaa\n",
    "wc -l xab\n",
    "wc -l xac"
   ]
  },
  {
   "cell_type": "markdown",
   "metadata": {},
   "source": [
    "### 17. １列目の文字列の異なり\n",
    "> 1列目の文字列の種類（異なる文字列の集合）を求めよ．確認にはsort, uniqコマンドを用いよ．"
   ]
  },
  {
   "cell_type": "code",
   "execution_count": 40,
   "metadata": {},
   "outputs": [
    {
     "name": "stdout",
     "output_type": "stream",
     "text": [
      "Abigail\n",
      "Aiden\n",
      "Alexander\n",
      "Alexis\n",
      "Alice\n",
      "Amanda\n",
      "Amy\n",
      "Andrew\n",
      "Angela\n",
      "Anna\n"
     ]
    }
   ],
   "source": [
    "with open(\"col1.txt\") as f:\n",
    "    names = sorted({line.rstrip() for line in f})\n",
    "    \n",
    "print(*names[:10], sep=\"\\n\")"
   ]
  },
  {
   "cell_type": "code",
   "execution_count": 31,
   "metadata": {},
   "outputs": [
    {
     "name": "stdout",
     "output_type": "stream",
     "text": [
      "Abigail\n",
      "Aiden\n",
      "Alexander\n",
      "Alexis\n",
      "Alice\n",
      "Amanda\n",
      "Amy\n",
      "Andrew\n",
      "Angela\n",
      "Anna\n"
     ]
    }
   ],
   "source": [
    "%%bash\n",
    "sort col1.txt | uniq | head"
   ]
  },
  {
   "cell_type": "markdown",
   "metadata": {},
   "source": [
    "### 18. 各行を3コラム目の数値の降順にソート\n",
    "> 各行を3コラム目の数値の逆順で整列せよ（注意: 各行の内容は変更せずに並び替えよ）．確認にはsortコマンドを用いよ（この問題はコマンドで実行した時の結果と合わなくてもよい）．"
   ]
  },
  {
   "cell_type": "code",
   "execution_count": 46,
   "metadata": {},
   "outputs": [
    {
     "name": "stdout",
     "output_type": "stream",
     "text": [
      "Linda\tF\t99685\t1947\n",
      " Linda\tF\t96210\t1948\n",
      " James\tM\t94762\t1947\n",
      " Michael\tM\t92716\t1957\n",
      " Robert\tM\t91641\t1947\n",
      " Linda\tF\t91013\t1949\n",
      " Michael\tM\t90620\t1956\n",
      " Michael\tM\t90512\t1958\n",
      " James\tM\t88584\t1948\n",
      " Michael\tM\t88525\t1954\n",
      "\n"
     ]
    }
   ],
   "source": [
    "with open(datapath) as f:\n",
    "    sorted_lines = sorted(f, key=lambda x: int(x.split()[2]), reverse=True)\n",
    "    \n",
    "print(*sorted_lines[:10])"
   ]
  },
  {
   "cell_type": "code",
   "execution_count": 33,
   "metadata": {},
   "outputs": [
    {
     "name": "stdout",
     "output_type": "stream",
     "text": [
      "Linda\tF\t99685\t1947\n",
      "Linda\tF\t96210\t1948\n",
      "James\tM\t94762\t1947\n",
      "Michael\tM\t92716\t1957\n",
      "Robert\tM\t91641\t1947\n",
      "Linda\tF\t91013\t1949\n",
      "Michael\tM\t90620\t1956\n",
      "Michael\tM\t90512\t1958\n",
      "James\tM\t88584\t1948\n",
      "Michael\tM\t88525\t1954\n"
     ]
    }
   ],
   "source": [
    "%%bash\n",
    "sort -nrk 3 ../../problem/data/popular-names.txt | head"
   ]
  },
  {
   "cell_type": "markdown",
   "metadata": {},
   "source": [
    "### 19. 各行の1コラム目の文字列の出現頻度を求め，出現頻度の高い順に並べる\n",
    "> 各行の1列目の文字列の出現頻度を求め，その高い順に並べて表示せよ．確認にはcut, uniq, sortコマンドを用いよ．"
   ]
  },
  {
   "cell_type": "code",
   "execution_count": 34,
   "metadata": {},
   "outputs": [],
   "source": [
    "from collections import Counter"
   ]
  },
  {
   "cell_type": "code",
   "execution_count": 48,
   "metadata": {},
   "outputs": [
    {
     "name": "stdout",
     "output_type": "stream",
     "text": [
      "116 James\n",
      "109 William\n",
      "108 Robert\n",
      "108 John\n",
      "92 Mary\n",
      "75 Charles\n",
      "74 Michael\n",
      "73 Elizabeth\n",
      "71 Joseph\n",
      "60 Margaret\n"
     ]
    },
    {
     "data": {
      "text/plain": [
       "[('James', 116),\n",
       " ('William', 109),\n",
       " ('Robert', 108),\n",
       " ('John', 108),\n",
       " ('Mary', 92),\n",
       " ('Charles', 75),\n",
       " ('Michael', 74),\n",
       " ('Elizabeth', 73),\n",
       " ('Joseph', 71),\n",
       " ('Margaret', 60)]"
      ]
     },
     "execution_count": 48,
     "metadata": {},
     "output_type": "execute_result"
    }
   ],
   "source": [
    "with open(\"col1.txt\") as f:\n",
    "    counter = Counter(line.rstrip() for line in f)\n",
    "for w, n in counter.most_common()[:10]:\n",
    "    print(n, w)\n",
    "counter.most_common(10)"
   ]
  },
  {
   "cell_type": "code",
   "execution_count": 36,
   "metadata": {},
   "outputs": [
    {
     "name": "stdout",
     "output_type": "stream",
     "text": [
      "    116 James\n",
      "    109 William\n",
      "    108 Robert\n",
      "    108 John\n",
      "     92 Mary\n",
      "     75 Charles\n",
      "     74 Michael\n",
      "     73 Elizabeth\n",
      "     71 Joseph\n",
      "     60 Margaret\n"
     ]
    }
   ],
   "source": [
    "%%bash\n",
    "sort col1.txt | uniq -c | sort -nr | head"
   ]
  }
 ],
 "metadata": {
  "kernelspec": {
   "display_name": "Python 3",
   "language": "python",
   "name": "python3"
  },
  "language_info": {
   "codemirror_mode": {
    "name": "ipython",
    "version": 3
   },
   "file_extension": ".py",
   "mimetype": "text/x-python",
   "name": "python",
   "nbconvert_exporter": "python",
   "pygments_lexer": "ipython3",
   "version": "3.5.2"
  }
 },
 "nbformat": 4,
 "nbformat_minor": 2
}
