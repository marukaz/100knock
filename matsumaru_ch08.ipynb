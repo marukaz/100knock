{
 "cells": [
  {
   "cell_type": "markdown",
   "metadata": {},
   "source": [
    "## 第8章: 機械学習\n",
    "> 本章では，Bo Pang氏とLillian Lee氏が公開しているMovie Review Dataのsentence polarity dataset v1.0を用い，文を肯定的（ポジティブ）もしくは否定的（ネガティブ）に分類するタスク（極性分析）に取り組む．"
   ]
  },
  {
   "cell_type": "code",
   "execution_count": 1,
   "metadata": {},
   "outputs": [],
   "source": [
    "import nltk\n",
    "import numpy as np"
   ]
  },
  {
   "cell_type": "markdown",
   "metadata": {},
   "source": [
    "### 70. データの入手・整形\n",
    "> 文に関する極性分析の正解データを用い，以下の要領で正解データ（sentiment.txt）を作成せよ．\n",
    "1. rt-polarity.posの各行の先頭に\"+1 \"という文字列を追加する（極性ラベル\"+1\"とスペースに続けて肯定的な文の内容が続く）\n",
    "2. rt-polarity.negの各行の先頭に\"-1 \"という文字列を追加する（極性ラベル\"-1\"とスペースに続けて否定的な文の内容が続く）\n",
    "3. 上述1と2の内容を結合（concatenate）し，行をランダムに並び替える\n",
    "\n",
    "> sentiment.txtを作成したら，正例（肯定的な文）の数と負例（否定的な文）の数を確認せよ．\n",
    "\n"
   ]
  },
  {
   "cell_type": "code",
   "execution_count": 2,
   "metadata": {},
   "outputs": [
    {
     "name": "stdout",
     "output_type": "stream",
     "text": [
      "+1 the film's images give a backbone to the company and provide an emotional edge to its ultimate demise . \n",
      "-1 not even steven spielberg has dreamed up such blatant and sickening product placement in a movie . \n",
      "-1 if swimfan does catch on , it may be because teens are looking for something to make them laugh . \n",
      "+1 the kind of primal storytelling that george lucas can only dream of . \n",
      "+1 funny in a sick , twisted sort of way . \n",
      "-1 for all its violence , the movie is remarkably dull with only caine making much of an impression . \n",
      "-1 a wretched movie that reduces the second world war to one man's quest to find an old flame . \n",
      "+1 sharp edges and a deep vein of sadness run through its otherwise comic narrative . \n",
      "+1 chaiken ably balances real-time rhythms with propulsive incident . \n",
      "+1 writer-director burger imaginatively fans the embers of a dormant national grief and curiosity that has calcified into chronic cynicism and fear . \n"
     ]
    }
   ],
   "source": [
    "%%bash\n",
    "cd data\n",
    "sed -e \"s/^/+1 /\" rt-polarity.pos > tmp.txt\n",
    "sed -e \"s/^/-1 /\" rt-polarity.neg >> tmp.txt\n",
    "sort -R tmp.txt > sentiment.txt\n",
    "head sentiment.txt"
   ]
  },
  {
   "cell_type": "code",
   "execution_count": 3,
   "metadata": {},
   "outputs": [
    {
     "name": "stdout",
     "output_type": "stream",
     "text": [
      "5331\n",
      "5331\n"
     ]
    }
   ],
   "source": [
    "%%bash\n",
    "cd data\n",
    "grep -c ^+1 sentiment.txt\n",
    "grep -c ^-1 sentiment.txt"
   ]
  },
  {
   "cell_type": "markdown",
   "metadata": {},
   "source": [
    "### 71. ストップワード\n",
    "> 英語のストップワードのリスト（ストップリスト）を適当に作成せよ．さらに，引数に与えられた単語（文字列）がストップリストに含まれている場合は真，それ以外は偽を返す関数を実装せよ．さらに，その関数に対するテストを記述せよ．"
   ]
  },
  {
   "cell_type": "code",
   "execution_count": 4,
   "metadata": {},
   "outputs": [
    {
     "name": "stdout",
     "output_type": "stream",
     "text": [
      "[nltk_data] Downloading package stopwords to\n",
      "[nltk_data]     /home/matsumaru/nltk_data...\n",
      "[nltk_data]   Package stopwords is already up-to-date!\n"
     ]
    }
   ],
   "source": [
    "from nltk.corpus import stopwords\n",
    "\n",
    "nltk.download('stopwords')\n",
    "stop_words = stopwords.words('english')\n",
    "\n",
    "def is_stopword(word):\n",
    "    return word in stop_words"
   ]
  },
  {
   "cell_type": "code",
   "execution_count": 21,
   "metadata": {},
   "outputs": [],
   "source": [
    "assert is_stopword('the') == True\n",
    "assert is_stopword('phosphorescence') == False"
   ]
  },
  {
   "cell_type": "markdown",
   "metadata": {},
   "source": [
    "### 72. 素性抽出\n",
    "> 極性分析に有用そうな素性を各自で設計し，学習データから素性を抽出せよ．素性としては，レビューからストップワードを除去し，各単語をステミング処理したものが最低限のベースラインとなるであろう．"
   ]
  },
  {
   "cell_type": "code",
   "execution_count": 6,
   "metadata": {},
   "outputs": [],
   "source": [
    "import chardet"
   ]
  },
  {
   "cell_type": "code",
   "execution_count": 7,
   "metadata": {},
   "outputs": [
    {
     "name": "stdout",
     "output_type": "stream",
     "text": [
      "{'encoding': 'Windows-1252', 'confidence': 0.73, 'language': ''}\n"
     ]
    }
   ],
   "source": [
    "with open('./data/sentiment.txt', 'rb') as f:\n",
    "    print(chardet.detect(f.read()))"
   ]
  },
  {
   "cell_type": "code",
   "execution_count": 8,
   "metadata": {},
   "outputs": [
    {
     "data": {
      "text/plain": [
       "array([0., 0., 0., ..., 0., 0., 0.])"
      ]
     },
     "execution_count": 8,
     "metadata": {},
     "output_type": "execute_result"
    }
   ],
   "source": [
    "class Bag_of_Words(object):\n",
    "    def __init__(self):\n",
    "        self.word_to_ix = {}\n",
    "        self.ix_to_word = {}\n",
    "        self.word_count = 0\n",
    "\n",
    "    def add_word(self, word):\n",
    "        if word not in self.word_to_ix:\n",
    "            self.word_to_ix[word] = self.word_count\n",
    "            self.ix_to_word[self.word_count] = word\n",
    "            self.word_count += 1\n",
    "\n",
    "def feature_extract(sentence, bow):\n",
    "    word_list = [word for word in sentence.split(' ') if not is_stopword(word)]\n",
    "    vec = np.zeros(bow.word_count)\n",
    "    for word in word_list:\n",
    "        word = PS.stem(word)\n",
    "        if word in bow.word_to_ix:\n",
    "            vec[bow.word_to_ix[word]] += 1\n",
    "    return vec\n",
    "\n",
    "BoW = Bag_of_Words()\n",
    "PS = nltk.stem.porter.PorterStemmer()\n",
    "with open('./data/sentiment.txt', encoding='Windows-1252') as f:\n",
    "    for line in f:\n",
    "        sentence = line[3:]\n",
    "        for word in sentence.split(' '):\n",
    "            word = PS.stem(word)\n",
    "            BoW.add_word(word)\n",
    "\n",
    "example = 'one of those unassuming films that sneaks up on you and stays with you long after you have left the theatre . '\n",
    "feature_extract(example, BoW)"
   ]
  },
  {
   "cell_type": "code",
   "execution_count": 9,
   "metadata": {},
   "outputs": [
    {
     "data": {
      "text/plain": [
       "10.0"
      ]
     },
     "execution_count": 9,
     "metadata": {},
     "output_type": "execute_result"
    }
   ],
   "source": [
    "sum(feature_extract(example, BoW))"
   ]
  },
  {
   "cell_type": "code",
   "execution_count": 10,
   "metadata": {},
   "outputs": [],
   "source": [
    "X = []\n",
    "Y = []\n",
    "\n",
    "with open('./data/sentiment.txt', encoding='Windows-1252') as f:\n",
    "    for line in f:\n",
    "        y, x = line.split(' ', 1)\n",
    "        X.append(feature_extract(x, BoW))\n",
    "        Y.append(int(y))"
   ]
  },
  {
   "cell_type": "markdown",
   "metadata": {},
   "source": [
    "### 73. 学習\n",
    "> 72で抽出した素性を用いて，ロジスティック回帰モデルを学習せよ．"
   ]
  },
  {
   "cell_type": "code",
   "execution_count": 11,
   "metadata": {},
   "outputs": [
    {
     "data": {
      "text/plain": [
       "0.9529169011442506"
      ]
     },
     "execution_count": 11,
     "metadata": {},
     "output_type": "execute_result"
    }
   ],
   "source": [
    "from sklearn.linear_model import LogisticRegression\n",
    "\n",
    "Model = LogisticRegression()\n",
    "Model.fit(X, Y)\n",
    "Model.score(X, Y)"
   ]
  },
  {
   "cell_type": "markdown",
   "metadata": {},
   "source": [
    "### 74. 予測\n",
    "> 73で学習したロジスティック回帰モデルを用い，与えられた文の極性ラベル（正例なら\"+1\"，負例なら\"-1\"）と，その予測確率を計算するプログラムを実装せよ．"
   ]
  },
  {
   "cell_type": "code",
   "execution_count": 19,
   "metadata": {},
   "outputs": [
    {
     "name": "stdout",
     "output_type": "stream",
     "text": [
      "label: -1, probability: 0.808964699896107\n",
      "label: +1, probability: 0.500671783927467\n"
     ]
    }
   ],
   "source": [
    "sentences = ['alice was beginning to get very tired of sitting by her sister on the bank , and of having nothing to do .',\n",
    "             'That is exactly the way I wanted it !']\n",
    "test = [feature_extract(sentence, BoW) for sentence in sentences]\n",
    "for label, proba in zip(Model.predict(test), Model.predict_proba(test)):\n",
    "    if label == 1:\n",
    "        print('label: +1, probability:', max(proba))\n",
    "    else:\n",
    "        print('label: -1, probability:', max(proba))"
   ]
  },
  {
   "cell_type": "markdown",
   "metadata": {},
   "source": [
    "### 75. 素性の重み\n",
    "> 73で学習したロジスティック回帰モデルの中で，重みの高い素性トップ10と，重みの低い素性トップ10を確認せよ．"
   ]
  },
  {
   "cell_type": "code",
   "execution_count": 13,
   "metadata": {},
   "outputs": [
    {
     "name": "stdout",
     "output_type": "stream",
     "text": [
      "High 10: \n",
      "('engross', 2.1193399499112995)\n",
      "('refresh', 1.9430706022219832)\n",
      "('unexpect', 1.855804521299073)\n",
      "('smarter', 1.6964655892987774)\n",
      "('remark', 1.6240876173915837)\n",
      "('resist', 1.6016081414424213)\n",
      "('beauti', 1.5498483994896806)\n",
      "('lane', 1.5444484957917055)\n",
      "('mesmer', 1.4900942395957422)\n",
      "('examin', 1.4767152568582094)\n",
      "Low 10: \n",
      "('bore', -2.1998082984779948)\n",
      "('dull', -1.9619584911539347)\n",
      "('neither', -1.8887373169756692)\n",
      "('wast', -1.874116887319212)\n",
      "('fail', -1.8547313576056472)\n",
      "('mediocr', -1.8524631585549594)\n",
      "('appar', -1.7733922941311118)\n",
      "('worst', -1.7631905970782054)\n",
      "('badli', -1.7427138241620073)\n",
      "('routin', -1.7029632730630255)\n"
     ]
    }
   ],
   "source": [
    "weights = {BoW.ix_to_word[i]: x for i, x in enumerate(Model.coef_[0])}\n",
    "weights = sorted(weights.items(), key=lambda x: x[1])\n",
    "print('High 10: ', *reversed(weights[-10:]), sep='\\n')\n",
    "print('Low 10: ', *weights[:10], sep='\\n')"
   ]
  },
  {
   "cell_type": "markdown",
   "metadata": {},
   "source": [
    "### 76. ラベル付け\n",
    "> 学習データに対してロジスティック回帰モデルを適用し，正解のラベル，予測されたラベル，予測確率をタブ区切り形式で出力せよ．"
   ]
  },
  {
   "cell_type": "code",
   "execution_count": 14,
   "metadata": {},
   "outputs": [
    {
     "name": "stdout",
     "output_type": "stream",
     "text": [
      "1\t1\t0.9744339798160324\n",
      "-1\t-1\t0.7385499495384062\n",
      "-1\t-1\t0.5726916847073221\n",
      "1\t1\t0.6838301956607635\n",
      "1\t1\t0.7143125526381386\n",
      "-1\t-1\t0.8078692407639353\n",
      "-1\t1\t0.5085058044308296\n",
      "1\t1\t0.9721689730922698\n",
      "1\t1\t0.9155870421938627\n",
      "1\t1\t0.7123847357095636\n"
     ]
    }
   ],
   "source": [
    "def output_predict(model, X, Y):\n",
    "    for true, pred, proba in zip(Y, model.predict(X), model.predict_proba(X)):\n",
    "        yield true, pred, max(proba)\n",
    "\n",
    "for i, output in enumerate(output_predict(Model, X, Y)):\n",
    "    if i == 10:\n",
    "        break\n",
    "    print(*output, sep='\\t')"
   ]
  },
  {
   "cell_type": "markdown",
   "metadata": {},
   "source": [
    "### 77. 正解率の計測\n",
    "> 76の出力を受け取り，予測の正解率，正例に関する適合率，再現率，F1スコアを求めるプログラムを作成せよ．"
   ]
  },
  {
   "cell_type": "code",
   "execution_count": 15,
   "metadata": {},
   "outputs": [
    {
     "name": "stdout",
     "output_type": "stream",
     "text": [
      "accuracy: 0.9529169011442506\n",
      "precision: 0.9556520098131723\n",
      "recall: 0.9499155880697805\n",
      "F_measure: 0.95277516462841\n"
     ]
    }
   ],
   "source": [
    "true_positive = 0\n",
    "pred_positive = 0\n",
    "both_positive = 0\n",
    "correct = 0\n",
    "for true, pred, _ in output_predict(Model, X, Y):\n",
    "    if true == 1: \n",
    "        true_positive += 1\n",
    "    if pred == 1: \n",
    "        pred_positive += 1\n",
    "    if true == pred: \n",
    "        correct += 1\n",
    "        if true == 1:\n",
    "            both_positive += 1\n",
    "\n",
    "accuracy = correct / len(Y)\n",
    "print('accuracy:', accuracy)\n",
    "precision = both_positive / pred_positive\n",
    "print('precision:', precision)\n",
    "recall = both_positive / true_positive\n",
    "print('recall:', recall)\n",
    "F_measure = 2 * precision * recall / (precision + recall)\n",
    "print('F_measure:', F_measure)"
   ]
  },
  {
   "cell_type": "markdown",
   "metadata": {},
   "source": [
    "### 78. 5分割交差検定\n",
    "> 76-77の実験では，学習に用いた事例を評価にも用いたため，正当な評価とは言えない．すなわち，分類器が訓練事例を丸暗記する際の性能を評価しており，モデルの汎化性能を測定していない．そこで，5分割交差検定により，極性分類の正解率，適合率，再現率，F1スコアを求めよ．"
   ]
  },
  {
   "cell_type": "code",
   "execution_count": 16,
   "metadata": {},
   "outputs": [],
   "source": [
    "from sklearn.model_selection import cross_validate\n",
    "\n",
    "scoring = ['accuracy', \n",
    "           'precision',\n",
    "           'recall',\n",
    "           'f1']\n",
    "\n",
    "scores = cross_validate(Model, X, Y, cv=5, scoring=scoring, return_train_score=False)"
   ]
  },
  {
   "cell_type": "code",
   "execution_count": 17,
   "metadata": {},
   "outputs": [
    {
     "data": {
      "text/plain": [
       "{'test_accuracy': array([0.76804124, 0.74859287, 0.74812383, 0.74718574, 0.77157598]),\n",
       " 'test_precision': array([0.77134725, 0.75047259, 0.74023615, 0.74603175, 0.77081384]),\n",
       " 'test_recall': array([0.76194939, 0.74484053, 0.76454034, 0.74953096, 0.77298311]),\n",
       " 'test_f1': array([0.76661952, 0.74764595, 0.75219197, 0.74777726, 0.77189696])}"
      ]
     },
     "execution_count": 17,
     "metadata": {},
     "output_type": "execute_result"
    }
   ],
   "source": [
    "del scores['fit_time']\n",
    "del scores['score_time']\n",
    "scores"
   ]
  },
  {
   "cell_type": "markdown",
   "metadata": {},
   "source": [
    "### 79. 適合率-再現率グラフの描画\n",
    "> ロジスティック回帰モデルの分類の閾値を変化させることで，適合率-再現率グラフを描画せよ．"
   ]
  },
  {
   "cell_type": "code",
   "execution_count": 18,
   "metadata": {},
   "outputs": [
    {
     "data": {
      "image/png": "[encoded data removed]",
      "text/plain": [
       "<Figure size 432x288 with 1 Axes>"
      ]
     },
     "metadata": {},
     "output_type": "display_data"
    }
   ],
   "source": [
    "from sklearn.metrics import precision_recall_curve\n",
    "import matplotlib.pyplot as plt\n",
    "import seaborn as sns\n",
    "\n",
    "%matplotlib inline\n",
    "sns.set()\n",
    "\n",
    "# acquire the precision and recall rate value at a certain threshold\n",
    "precision, recall, threshold = precision_recall_curve(Y, Model.predict_proba(X)[:, 1])\n",
    "\n",
    "plt.plot(precision, recall)\n",
    "plt.xlabel('Precision')\n",
    "plt.ylabel('Recall')\n",
    "\n",
    "plt.show()"
   ]
  }
 ],
 "metadata": {
  "kernelspec": {
   "display_name": "Python 3",
   "language": "python",
   "name": "python3"
  },
  "language_info": {
   "codemirror_mode": {
    "name": "ipython",
    "version": 3
   },
   "file_extension": ".py",
   "mimetype": "text/x-python",
   "name": "python",
   "nbconvert_exporter": "python",
   "pygments_lexer": "ipython3",
   "version": "3.6.5"
  }
 },
 "nbformat": 4,
 "nbformat_minor": 2
}
