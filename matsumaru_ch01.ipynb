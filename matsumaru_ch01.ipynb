{
 "cells": [
  {
   "cell_type": "markdown",
   "metadata": {},
   "source": [
    "# 第1章: 準備運動"
   ]
  },
  {
   "cell_type": "code",
   "execution_count": 1,
   "metadata": {},
   "outputs": [],
   "source": [
    "import random"
   ]
  },
  {
   "cell_type": "markdown",
   "metadata": {},
   "source": [
    "### 00. 文字列の逆順"
   ]
  },
  {
   "cell_type": "code",
   "execution_count": 2,
   "metadata": {},
   "outputs": [
    {
     "data": {
      "text/plain": [
       "'desserts'"
      ]
     },
     "execution_count": 2,
     "metadata": {},
     "output_type": "execute_result"
    }
   ],
   "source": [
    "s = 'stressed'\n",
    "s[::-1]"
   ]
  },
  {
   "cell_type": "markdown",
   "metadata": {},
   "source": [
    "### 01. 「パタトクカシーー」"
   ]
  },
  {
   "cell_type": "code",
   "execution_count": 3,
   "metadata": {},
   "outputs": [
    {
     "data": {
      "text/plain": [
       "'パトカー'"
      ]
     },
     "execution_count": 3,
     "metadata": {},
     "output_type": "execute_result"
    }
   ],
   "source": [
    "s = 'パタトクカシーー'\n",
    "s[::2]"
   ]
  },
  {
   "cell_type": "markdown",
   "metadata": {},
   "source": [
    "### 02. 「パトカー」＋「タクシー」＝「パタトクカシーー」"
   ]
  },
  {
   "cell_type": "code",
   "execution_count": 4,
   "metadata": {},
   "outputs": [
    {
     "data": {
      "text/plain": [
       "'パタトクカシーー'"
      ]
     },
     "execution_count": 4,
     "metadata": {},
     "output_type": "execute_result"
    }
   ],
   "source": [
    "str1 = 'パトカー'\n",
    "str2 = 'タクシー'\n",
    "''.join(''.join(t) for t in zip(str1, str2))"
   ]
  },
  {
   "cell_type": "markdown",
   "metadata": {},
   "source": [
    "### 03. 円周率"
   ]
  },
  {
   "cell_type": "code",
   "execution_count": 5,
   "metadata": {},
   "outputs": [
    {
     "name": "stdout",
     "output_type": "stream",
     "text": [
      "[3, 1, 4, 1, 5, 9, 2, 6, 5, 3, 5, 8, 9, 7, 9]\n",
      "[3, 1, 4, 1, 5, 9, 2, 6, 5, 3, 5, 8, 9, 7, 9]\n"
     ]
    }
   ],
   "source": [
    "s = \"Now I need a drink, alcoholic of course, after the heavy lectures involving quantum mechanics.\"\n",
    "s = s.split(' ')\n",
    "t1 = [len([True for c in w if c.isalpha()]) for w in s]\n",
    "t2 = [len(w.rstrip(',.')) for w in s]\n",
    "\n",
    "print(t1)\n",
    "print(t2)"
   ]
  },
  {
   "cell_type": "markdown",
   "metadata": {},
   "source": [
    "### 04. 元素記号"
   ]
  },
  {
   "cell_type": "code",
   "execution_count": 6,
   "metadata": {},
   "outputs": [
    {
     "name": "stdout",
     "output_type": "stream",
     "text": [
      "<class 'list'>\n",
      "{1: 'H', 2: 'He', 3: 'Li', 4: 'Be', 5: 'B', 6: 'C', 7: 'N', 8: 'O', 9: 'F', 10: 'Ne', 11: 'Na', 12: 'Mi', 13: 'Al', 14: 'Si', 15: 'P', 16: 'S', 17: 'Cl', 18: 'Ar', 19: 'K', 20: 'Ca'}\n",
      "5.82 µs ± 77 ns per loop (mean ± std. dev. of 7 runs, 100000 loops each)\n",
      "4.7 µs ± 67 ns per loop (mean ± std. dev. of 7 runs, 100000 loops each)\n",
      "<class 'set'>\n",
      "3.17 µs ± 26.6 ns per loop (mean ± std. dev. of 7 runs, 100000 loops each)\n"
     ]
    }
   ],
   "source": [
    "s = \"Hi He Lied Because Boron Could Not Oxidize Fluorine. New Nations Might Also Sign Peace Security Clause. Arthur King Can.\"\n",
    "s = s.split(\" \")\n",
    "oneChar = [1, 5, 6, 7, 8, 9, 15, 16, 19]\n",
    "print(type(oneChar))\n",
    "def gen() : return {i+1: (w[0] if i+1 in oneChar else w[:2]) for (i, w) in enumerate(s)}\n",
    "print(gen())\n",
    "%timeit gen()\n",
    "\n",
    "def gen() : return {i: (w[0] if i in oneChar else w[:2]) for (i, w) in enumerate(s, 1)}\n",
    "%timeit gen()\n",
    "\n",
    "oneChar = {1, 5, 6, 7, 8, 9, 15, 16, 19}\n",
    "print(type(oneChar))\n",
    "%timeit gen()"
   ]
  },
  {
   "cell_type": "markdown",
   "metadata": {},
   "source": [
    "### 05. n-gram"
   ]
  },
  {
   "cell_type": "code",
   "execution_count": 7,
   "metadata": {
    "scrolled": true
   },
   "outputs": [
    {
     "name": "stdout",
     "output_type": "stream",
     "text": [
      "[['I', 'am'], ['am', 'an'], ['an', 'NLPer']]\n",
      "['I ', ' a', 'am', 'm ', ' a', 'an', 'n ', ' N', 'NL', 'LP', 'Pe', 'er']\n"
     ]
    }
   ],
   "source": [
    "s = \"I am an NLPer\"\n",
    "def ngram(seq, n):\n",
    "    return [seq[i:i+n] for i in range(len(seq)-n+1)]\n",
    "\n",
    "w = s.split(\" \")\n",
    "print(ngram(w,2))\n",
    "print(ngram(s,2))"
   ]
  },
  {
   "cell_type": "markdown",
   "metadata": {},
   "source": [
    "### 06. 集合"
   ]
  },
  {
   "cell_type": "code",
   "execution_count": 8,
   "metadata": {},
   "outputs": [
    {
     "name": "stdout",
     "output_type": "stream",
     "text": [
      "363 ns ± 6.32 ns per loop (mean ± std. dev. of 7 runs, 1000000 loops each)\n",
      "295 ns ± 2.55 ns per loop (mean ± std. dev. of 7 runs, 1000000 loops each)\n",
      "{'ap', 'ar', 'ra', 'is', 'se', 'pa', 'di', 'ad'}\n",
      "{'ph', 'ap', 'ar', 'ag', 'gr', 'pa', 'ra'}\n",
      "{'ph', 'ap', 'ar', 'ra', 'is', 'se', 'ag', 'gr', 'pa', 'di', 'ad'}\n",
      "{'ra', 'ar', 'pa', 'ap'}\n",
      "{'ad', 'is', 'se', 'di'}\n",
      "X is True\n",
      "Y is False\n"
     ]
    }
   ],
   "source": [
    "sx = \"paraparaparadise\"\n",
    "sy = \"paragraph\"\n",
    "x = set(ngram(sx,2))\n",
    "y = set(ngram(sy,2))\n",
    "\n",
    "%timeit x.union(y)\n",
    "%timeit x | y\n",
    "\n",
    "print(x)\n",
    "print(y)\n",
    "print(x | y)\n",
    "print(x & y)\n",
    "print(x - y)\n",
    "print(\"X is\", \"se\" in x)\n",
    "print(\"Y is\", \"se\" in y)"
   ]
  },
  {
   "cell_type": "markdown",
   "metadata": {},
   "source": [
    "### 07. テンプレートによる文生成"
   ]
  },
  {
   "cell_type": "code",
   "execution_count": 9,
   "metadata": {},
   "outputs": [
    {
     "ename": "SyntaxError",
     "evalue": "invalid syntax (<ipython-input-9-6839d9a995ba>, line 11)",
     "output_type": "error",
     "traceback": [
      "\u001b[0;36m  File \u001b[0;32m\"<ipython-input-9-6839d9a995ba>\"\u001b[0;36m, line \u001b[0;32m11\u001b[0m\n\u001b[0;31m    return f\"{x}時の{y}は{z}\"\u001b[0m\n\u001b[0m                         ^\u001b[0m\n\u001b[0;31mSyntaxError\u001b[0m\u001b[0;31m:\u001b[0m invalid syntax\n"
     ]
    }
   ],
   "source": [
    "def gen_para(x, y, z):\n",
    "    return \"\".join((str(x), \"時の\", str(y), \"は\", str(z)))\n",
    "\n",
    "def gen_para2(x, y, z):\n",
    "    return \"%d時の%sは%.1f\" % (x, y, z)\n",
    "\n",
    "def gen_para3(x, y, z):\n",
    "    return \"{x}時の{y}は{z}\".format(x=x, y=y, z=z)\n",
    "\n",
    "def gen_para4(x, y, z):\n",
    "    return f\"{x}時の{y}は{z}\"\n",
    "\n",
    "print(gen_para(12, \"気温\", 22.4))\n",
    "print(gen_para2(12, \"気温\", 22.4))\n",
    "print(gen_para3(12, \"気温\", 22.4))\n",
    "print(gen_para4(12, \"気温\", 22.4))"
   ]
  },
  {
   "cell_type": "markdown",
   "metadata": {},
   "source": [
    "### 08. 暗号文"
   ]
  },
  {
   "cell_type": "code",
   "execution_count": 10,
   "metadata": {},
   "outputs": [
    {
     "name": "stdout",
     "output_type": "stream",
     "text": [
      "Wvggvi\n",
      "Wetter\n"
     ]
    }
   ],
   "source": [
    "def cipher(s):\n",
    "    return \"\".join([chr(219 - ord(c)) if c.islower() else c for c in s])\n",
    "\n",
    "print(cipher(\"Wetter\"))\n",
    "print(cipher(cipher(\"Wetter\")))"
   ]
  },
  {
   "cell_type": "markdown",
   "metadata": {},
   "source": [
    "### 09. Typoglycemia"
   ]
  },
  {
   "cell_type": "code",
   "execution_count": 11,
   "metadata": {},
   "outputs": [
    {
     "data": {
      "text/plain": [
       "\"I cndol'ut bilevee that I culod atluclay uentarnsdd what I was rdaenig : the phnaneeoml pwoer of the hmaun mind .\""
      ]
     },
     "execution_count": 11,
     "metadata": {},
     "output_type": "execute_result"
    }
   ],
   "source": [
    "s = \"I couldn't believe that I could actually understand what I was reading : the phenomenal power of the human mind .\"\n",
    "s = s.split(\" \")\n",
    "\n",
    "def muddler(w):\n",
    "    if 5 > len(w):\n",
    "        return w\n",
    "    \n",
    "    head = w[0]\n",
    "    body = w[1:-1]\n",
    "    tail = w[-1]\n",
    "    \n",
    "    return \"\".join((head, \"\".join(random.sample(body ,len(body))), tail))\n",
    "\n",
    "\" \".join([muddler(w) for w in s])"
   ]
  }
 ],
 "metadata": {
  "kernelspec": {
   "display_name": "Python 3",
   "language": "python",
   "name": "python3"
  },
  "language_info": {
   "codemirror_mode": {
    "name": "ipython",
    "version": 3
   },
   "file_extension": ".py",
   "mimetype": "text/x-python",
   "name": "python",
   "nbconvert_exporter": "python",
   "pygments_lexer": "ipython3",
   "version": "3.5.2"
  }
 },
 "nbformat": 4,
 "nbformat_minor": 2
}
